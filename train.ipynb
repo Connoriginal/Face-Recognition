{
 "cells": [
  {
   "cell_type": "code",
   "execution_count": 1,
   "id": "1139e7f9",
   "metadata": {},
   "outputs": [],
   "source": [
    "import yalefaceDataset as yfd"
   ]
  },
  {
   "cell_type": "code",
   "execution_count": 8,
   "id": "fc7ed644",
   "metadata": {},
   "outputs": [],
   "source": [
    "import torch\n",
    "import pandas as pd\n",
    "from torch.utils.data import Dataset, DataLoader\n",
    "from torchvision import datasets\n",
    "from torchvision.transforms import ToTensor\n",
    "from torchvision import transforms\n",
    "import matplotlib.pyplot as plt\n",
    "from torch.autograd import Variable\n",
    "from sklearn.preprocessing import LabelEncoder"
   ]
  },
  {
   "cell_type": "code",
   "execution_count": 9,
   "id": "abe28ba0",
   "metadata": {},
   "outputs": [],
   "source": [
    "# a = pd.read_csv(\"./data/yale_train.csv\")\n",
    "# b = a.loc[:,[\"subject\"]]\n",
    "# le = LabelEncoder()\n",
    "# le.fit(b)\n",
    "# c = le.transform(b)\n",
    "# le.classes_\n",
    "# le.inverse_transform(c)"
   ]
  },
  {
   "cell_type": "code",
   "execution_count": 16,
   "id": "3caa4707",
   "metadata": {},
   "outputs": [],
   "source": [
    "trans = transforms.Compose([\n",
    "#                             transforms.Resize((150,150)), \n",
    "                            transforms.ToTensor(),\n",
    "#                             transforms.Normalize((0.5,0.5,0.5), (0.5,0.5,0.5))\n",
    "                           ])"
   ]
  },
  {
   "cell_type": "code",
   "execution_count": 25,
   "id": "765a64c6",
   "metadata": {},
   "outputs": [
    {
     "data": {
      "text/plain": [
       "torch.Size([1, 243, 320])"
      ]
     },
     "execution_count": 25,
     "metadata": {},
     "output_type": "execute_result"
    }
   ],
   "source": [
    "train_data = yfd.YalefaceDataset(train=True, transform=trans)\n",
    "test_data = yfd.YalefaceDataset(train=False, transform=trans)\n"
   ]
  },
  {
   "cell_type": "code",
   "execution_count": 18,
   "id": "10358dff",
   "metadata": {},
   "outputs": [
    {
     "data": {
      "text/plain": [
       "4"
      ]
     },
     "execution_count": 18,
     "metadata": {},
     "output_type": "execute_result"
    }
   ],
   "source": [
    "train_loader = DataLoader(dataset=train_data,\n",
    "                                            batch_size=10,\n",
    "                                            shuffle=True)\n",
    "test_loader = DataLoader(dataset=test_data,batch_size=10,shuffle=True)\n",
    "len(test_loader)"
   ]
  },
  {
   "cell_type": "code",
   "execution_count": 20,
   "id": "702c9b80",
   "metadata": {},
   "outputs": [
    {
     "name": "stdout",
     "output_type": "stream",
     "text": [
      "torch.Size([10, 1, 243, 320])\n",
      "torch.Size([10, 1, 243, 320])\n",
      "torch.Size([10, 1, 243, 320])\n",
      "torch.Size([3, 1, 243, 320])\n"
     ]
    }
   ],
   "source": [
    "for i,(img,label) in enumerate(test_loader) :\n",
    "    print(img.shape)"
   ]
  },
  {
   "cell_type": "code",
   "execution_count": null,
   "id": "40c8ca11",
   "metadata": {},
   "outputs": [],
   "source": []
  },
  {
   "cell_type": "code",
   "execution_count": null,
   "id": "e8fbd77b",
   "metadata": {
    "scrolled": false
   },
   "outputs": [],
   "source": [
    "    "
   ]
  },
  {
   "cell_type": "code",
   "execution_count": null,
   "id": "f1757e43",
   "metadata": {},
   "outputs": [],
   "source": []
  }
 ],
 "metadata": {
  "kernelspec": {
   "display_name": "Python 3",
   "language": "python",
   "name": "python3"
  },
  "language_info": {
   "codemirror_mode": {
    "name": "ipython",
    "version": 3
   },
   "file_extension": ".py",
   "mimetype": "text/x-python",
   "name": "python",
   "nbconvert_exporter": "python",
   "pygments_lexer": "ipython3",
   "version": "3.9.6"
  }
 },
 "nbformat": 4,
 "nbformat_minor": 5
}
